{
  "nbformat": 4,
  "nbformat_minor": 0,
  "metadata": {
    "colab": {
      "name": "ScikitLearn_pipeline_tutorial.ipynb",
      "provenance": [],
      "collapsed_sections": [],
      "authorship_tag": "ABX9TyNH3CDJIRtn+JRxhFw74uwv",
      "include_colab_link": true
    },
    "kernelspec": {
      "name": "python3",
      "display_name": "Python 3"
    },
    "language_info": {
      "name": "python"
    }
  },
  "cells": [
    {
      "cell_type": "markdown",
      "metadata": {
        "id": "view-in-github",
        "colab_type": "text"
      },
      "source": [
        "<a href=\"https://colab.research.google.com/github/kmk3593/Project01/blob/main/ScikitLearn_pipeline_tutorial.ipynb\" target=\"_parent\"><img src=\"https://colab.research.google.com/assets/colab-badge.svg\" alt=\"Open In Colab\"/></a>"
      ]
    },
    {
      "cell_type": "markdown",
      "source": [
        "# 데이터 누수 방지 위한 모델링 기법 : 파이프라인 구축\n",
        "- 수능 시험 = 최종 테스트 데이터\n",
        "- 모의고사 또는 과거 기출문제 = 검증데이터\n",
        "- 교과서 문제지 = 훈련 데이터\n",
        "- 머신러닝 엔지니어 : MLOps (선행되어야 하는 코드 조건, Pipeline 형태로 구축)\n",
        "  + 머신러닝 코드 자동화 가능! 운영 가능!\n",
        "  + 개발업계의 최상위 연봉자!"
      ],
      "metadata": {
        "id": "72RuAsb-hOa1"
      }
    },
    {
      "cell_type": "markdown",
      "source": [
        "### 데이터 불러오기"
      ],
      "metadata": {
        "id": "7_lzLrJEkLvf"
      }
    },
    {
      "cell_type": "code",
      "source": [
        "import pandas as pd\n",
        "import numpy as np\n",
        "data = pd.read_csv('https://raw.githubusercontent.com/MicrosoftDocs/ml-basics/master/data/daily-bike-share.csv')\n",
        "data.info()"
      ],
      "metadata": {
        "colab": {
          "base_uri": "https://localhost:8080/"
        },
        "id": "OAD8c4nLkPez",
        "outputId": "e86052ba-4bab-4eb7-84df-ee8eb36157a8"
      },
      "execution_count": null,
      "outputs": [
        {
          "output_type": "stream",
          "name": "stdout",
          "text": [
            "<class 'pandas.core.frame.DataFrame'>\n",
            "RangeIndex: 731 entries, 0 to 730\n",
            "Data columns (total 14 columns):\n",
            " #   Column      Non-Null Count  Dtype  \n",
            "---  ------      --------------  -----  \n",
            " 0   instant     731 non-null    int64  \n",
            " 1   dteday      731 non-null    object \n",
            " 2   season      731 non-null    int64  \n",
            " 3   yr          731 non-null    int64  \n",
            " 4   mnth        731 non-null    int64  \n",
            " 5   holiday     731 non-null    int64  \n",
            " 6   weekday     731 non-null    int64  \n",
            " 7   workingday  731 non-null    int64  \n",
            " 8   weathersit  731 non-null    int64  \n",
            " 9   temp        731 non-null    float64\n",
            " 10  atemp       731 non-null    float64\n",
            " 11  hum         731 non-null    float64\n",
            " 12  windspeed   731 non-null    float64\n",
            " 13  rentals     731 non-null    int64  \n",
            "dtypes: float64(4), int64(9), object(1)\n",
            "memory usage: 80.1+ KB\n"
          ]
        }
      ]
    },
    {
      "cell_type": "markdown",
      "source": [
        "### 데이터 추출"
      ],
      "metadata": {
        "id": "7CaGx6D-kSjt"
      }
    },
    {
      "cell_type": "code",
      "source": [
        "cols = ['season', 'mnth', 'holiday', 'weekday', 'workingday', 'weathersit', 'temp', 'atemp', 'hum', 'windspeed', 'rentals']\n",
        "data = data[cols]\n",
        "data.info()\n",
        "# data['mnth'].value_counts()"
      ],
      "metadata": {
        "colab": {
          "base_uri": "https://localhost:8080/"
        },
        "id": "uf_JiUxxkULf",
        "outputId": "2ee3a3f0-cc13-4447-91a6-a3954850ea71"
      },
      "execution_count": null,
      "outputs": [
        {
          "output_type": "stream",
          "name": "stdout",
          "text": [
            "<class 'pandas.core.frame.DataFrame'>\n",
            "RangeIndex: 731 entries, 0 to 730\n",
            "Data columns (total 11 columns):\n",
            " #   Column      Non-Null Count  Dtype  \n",
            "---  ------      --------------  -----  \n",
            " 0   season      731 non-null    int64  \n",
            " 1   mnth        731 non-null    int64  \n",
            " 2   holiday     731 non-null    int64  \n",
            " 3   weekday     731 non-null    int64  \n",
            " 4   workingday  731 non-null    int64  \n",
            " 5   weathersit  731 non-null    int64  \n",
            " 6   temp        731 non-null    float64\n",
            " 7   atemp       731 non-null    float64\n",
            " 8   hum         731 non-null    float64\n",
            " 9   windspeed   731 non-null    float64\n",
            " 10  rentals     731 non-null    int64  \n",
            "dtypes: float64(4), int64(7)\n",
            "memory usage: 62.9 KB\n"
          ]
        }
      ]
    },
    {
      "cell_type": "markdown",
      "source": [
        "- Data Preprocessing\n",
        "  + 결측치 수동으로 채우거나\n",
        "  + 불필요한 변수를 제거하거나\n",
        "  + 이상치를 제거하거나\n",
        "  + 파생변수를 만들거나 등"
      ],
      "metadata": {
        "id": "Qeqnha4Fk3S5"
      }
    },
    {
      "cell_type": "markdown",
      "source": [
        "기본 : 데이터 불러오기 -> 데이터 전처리 -> 피처공학(원핫-인코딩) -> 데이터셋 분리 -> 모델링 코드 -> 모델평가\n",
        "\n",
        "파이프라인 : 데이터 불러오기  -> 데이터 전처리 -> 데이터셋 분리 -> 파이프라인 구축(피처공학, 모델링 코드) -> 모델 평가"
      ],
      "metadata": {
        "id": "x8UoNNC3n7of"
      }
    },
    {
      "cell_type": "markdown",
      "source": [
        "### 데이터 셋 분리"
      ],
      "metadata": {
        "id": "o7HIDAA4nteJ"
      }
    },
    {
      "cell_type": "code",
      "source": [
        "from sklearn.model_selection import train_test_split\n",
        "X = data.drop('rentals',axis=1)\n",
        "y = data['rentals']\n",
        "\n",
        "X_train, X_test, y_train, y_test = train_test_split(X, y, test_size=0.2, random_state=123)"
      ],
      "metadata": {
        "id": "XSS0twQ1nwTm"
      },
      "execution_count": null,
      "outputs": []
    },
    {
      "cell_type": "markdown",
      "source": [
        "- Feature Engineering\n",
        "  - 기존 : 개별적으로 코드 작성\n",
        "  - 현재 : Pipeline 코드로 추가할 것"
      ],
      "metadata": {
        "id": "A2NzyGlBk_SQ"
      }
    },
    {
      "cell_type": "markdown",
      "source": [
        "### Pipeline 구축"
      ],
      "metadata": {
        "id": "SYnESaHJnqPt"
      }
    },
    {
      "cell_type": "code",
      "source": [
        "from sklearn.preprocessing import StandardScaler, OrdinalEncoder, OneHotEncoder\n",
        "from sklearn.impute import SimpleImputer\n",
        "from sklearn.compose import ColumnTransformer\n",
        "from sklearn.pipeline import Pipeline\n",
        "\n",
        "# 데이터 타입 3가지\n",
        "# 수치형 데이터, 문자열 데이터\n",
        "# 문자열 데이터 : 범주형(명목형, 서열형 데이터로 구분됨)\n",
        "numeric_transformer = Pipeline(steps=[\n",
        "       ('imputer', SimpleImputer(strategy='mean'))\n",
        "      ,('scaler', StandardScaler())\n",
        "])\n",
        "\n",
        "ordinal_transformer = Pipeline(steps=[\n",
        "       ('imputer', SimpleImputer(strategy='constant'))\n",
        "      ,('ordEncoder', OrdinalEncoder())\n",
        "])\n",
        "\n",
        "onehot_transformer = Pipeline(steps=[\n",
        "       ('imputer', SimpleImputer(strategy='constant'))\n",
        "      ,('oheEncoder', OneHotEncoder())                                   \n",
        "])\n",
        "\n",
        "# 수치형 데이터 및 Categorical 데이터 컬럼 분리\n",
        "\n",
        "numeric_features = ['temp', 'atemp', 'hum', 'windspeed']\n",
        "ordinal_features = ['holiday', 'weekday', 'workingday', 'weathersit']\n",
        "onehot_features  = ['season', 'mnth']\n",
        "\n",
        "# numeric_features = data.select_dtypes(include=['int64', 'float64']).columns\n",
        "# categorical_features = data.select_dtypes(include=['object']).drop(['Loan_Status'], axis=1).columns\n",
        "\n",
        "preprocessor = ColumnTransformer(\n",
        "   transformers=[\n",
        "     ('numeric', numeric_transformer, numeric_features)\n",
        "   , ('ord_categorical', ordinal_transformer, ordinal_features)\n",
        "   , ('ohe_categorical', onehot_transformer, onehot_features)\n",
        "])"
      ],
      "metadata": {
        "id": "a6AFWeellIzi"
      },
      "execution_count": null,
      "outputs": []
    },
    {
      "cell_type": "markdown",
      "source": [
        "# 모델 적용\n",
        "- 전처리가 끝났으니 모델을 적용한다."
      ],
      "metadata": {
        "id": "ctBkfM0JmXwa"
      }
    },
    {
      "cell_type": "code",
      "source": [
        "from sklearn.ensemble import RandomForestRegressor\n",
        "\n",
        "pipeline = Pipeline(steps = [\n",
        "               ('preprocessor', preprocessor)\n",
        "              ,('regressor', RandomForestRegressor())\n",
        "           ])\n",
        "\n",
        "rf_model = pipeline.fit(X_train, y_train)\n",
        "print(rf_model)"
      ],
      "metadata": {
        "id": "34TlEQNGmdAo",
        "colab": {
          "base_uri": "https://localhost:8080/"
        },
        "outputId": "5753bb72-c873-4d1d-f504-4644b60b0ea6"
      },
      "execution_count": 14,
      "outputs": [
        {
          "output_type": "stream",
          "name": "stdout",
          "text": [
            "Pipeline(steps=[('preprocessor',\n",
            "                 ColumnTransformer(transformers=[('numeric',\n",
            "                                                  Pipeline(steps=[('imputer',\n",
            "                                                                   SimpleImputer()),\n",
            "                                                                  ('scaler',\n",
            "                                                                   StandardScaler())]),\n",
            "                                                  ['temp', 'atemp', 'hum',\n",
            "                                                   'windspeed']),\n",
            "                                                 ('ord_categorical',\n",
            "                                                  Pipeline(steps=[('imputer',\n",
            "                                                                   SimpleImputer(strategy='constant')),\n",
            "                                                                  ('ordEncoder',\n",
            "                                                                   OrdinalEncoder())]),\n",
            "                                                  ['holiday', 'weekday',\n",
            "                                                   'workingday',\n",
            "                                                   'weathersit']),\n",
            "                                                 ('ohe_categorical',\n",
            "                                                  Pipeline(steps=[('imputer',\n",
            "                                                                   SimpleImputer(strategy='constant')),\n",
            "                                                                  ('oheEncoder',\n",
            "                                                                   OneHotEncoder())]),\n",
            "                                                  ['season', 'mnth'])])),\n",
            "                ('regressor', RandomForestRegressor())])\n"
          ]
        }
      ]
    },
    {
      "cell_type": "markdown",
      "source": [
        "- 파이프라인끼리 연결시켜서 길게 늘이는 원리\n",
        "  - 데이터가 라인을 따라 흐르게 된다. 자동화"
      ],
      "metadata": {
        "id": "s2oq0ycVmxyW"
      }
    },
    {
      "cell_type": "markdown",
      "source": [
        "### 모델 평가"
      ],
      "metadata": {
        "id": "1WQSX8zbobjG"
      }
    },
    {
      "cell_type": "code",
      "source": [
        "from sklearn.metrics import r2_score\n",
        "predictions = rf_model.predict(X_test)\n",
        "print (r2_score(y_test, predictions))"
      ],
      "metadata": {
        "id": "OJrGgFBnodQy",
        "colab": {
          "base_uri": "https://localhost:8080/"
        },
        "outputId": "e27a1368-5d92-4390-f09d-9c936a44d678"
      },
      "execution_count": 15,
      "outputs": [
        {
          "output_type": "stream",
          "name": "stdout",
          "text": [
            "0.7728368422640097\n"
          ]
        }
      ]
    },
    {
      "cell_type": "markdown",
      "source": [
        "### 다중 모형 개발"
      ],
      "metadata": {
        "id": "Q0YJ505DosxL"
      }
    },
    {
      "cell_type": "code",
      "source": [
        "from sklearn.ensemble import RandomForestRegressor\n",
        "from sklearn.tree import DecisionTreeRegressor\n",
        "\n",
        "regressors = [\n",
        "    RandomForestRegressor()\n",
        "   ,DecisionTreeRegressor()\n",
        "]\n",
        "\n",
        "# regressors = [pipe_rf, pipe_dt]\n",
        "for regressor in regressors:\n",
        "    pipeline = Pipeline(steps = [\n",
        "               ('preprocessor', preprocessor)\n",
        "              ,('regressor',regressor)\n",
        "           ])\n",
        "    model = pipeline.fit(X_train, y_train)\n",
        "    predictions = model.predict(X_test)\n",
        "    print(regressor)\n",
        "    print(f'Model r2 score:{r2_score(predictions, y_test)}')"
      ],
      "metadata": {
        "id": "o-NhyPcwouoI",
        "colab": {
          "base_uri": "https://localhost:8080/"
        },
        "outputId": "8a82969b-ca40-4e57-f657-437f443449a7"
      },
      "execution_count": 16,
      "outputs": [
        {
          "output_type": "stream",
          "name": "stdout",
          "text": [
            "RandomForestRegressor()\n",
            "Model r2 score:0.74544998600902\n",
            "DecisionTreeRegressor()\n",
            "Model r2 score:0.6365934810580942\n"
          ]
        }
      ]
    }
  ]
}
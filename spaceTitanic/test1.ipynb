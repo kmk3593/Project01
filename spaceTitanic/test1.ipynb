{
 "cells": [
  {
   "cell_type": "code",
   "execution_count": 1,
   "id": "98a591d4",
   "metadata": {
    "_cell_guid": "b1076dfc-b9ad-4769-8c92-a6c4dae69d19",
    "_uuid": "8f2839f25d086af736a60e9eeb907d3b93b6e0e5",
    "execution": {
     "iopub.execute_input": "2022-04-01T03:42:29.228690Z",
     "iopub.status.busy": "2022-04-01T03:42:29.228164Z",
     "iopub.status.idle": "2022-04-01T03:42:29.233180Z",
     "shell.execute_reply": "2022-04-01T03:42:29.233587Z",
     "shell.execute_reply.started": "2022-04-01T01:14:44.002620Z"
    },
    "papermill": {
     "duration": 0.040507,
     "end_time": "2022-04-01T03:42:29.233807",
     "exception": false,
     "start_time": "2022-04-01T03:42:29.193300",
     "status": "completed"
    },
    "tags": []
   },
   "outputs": [
    {
     "name": "stdout",
     "output_type": "stream",
     "text": [
      "/kaggle/input/spaceship-titanic/sample_submission.csv\n",
      "/kaggle/input/spaceship-titanic/train.csv\n",
      "/kaggle/input/spaceship-titanic/test.csv\n"
     ]
    }
   ],
   "source": [
    "# This Python 3 environment comes with many helpful analytics libraries installed\n",
    "# It is defined by the kaggle/python Docker image: https://github.com/kaggle/docker-python\n",
    "# For example, here's several helpful packages to load\n",
    "\n",
    "import numpy as np # linear algebra\n",
    "import pandas as pd # data processing, CSV file I/O (e.g. pd.read_csv)\n",
    "\n",
    "# Input data files are available in the read-only \"../input/\" directory\n",
    "# For example, running this (by clicking run or pressing Shift+Enter) will list all files under the input directory\n",
    "\n",
    "import os\n",
    "for dirname, _, filenames in os.walk('/kaggle/input'):\n",
    "    for filename in filenames:\n",
    "        print(os.path.join(dirname, filename))\n",
    "\n",
    "# You can write up to 20GB to the current directory (/kaggle/working/) that gets preserved as output when you create a version using \"Save & Run All\" \n",
    "# You can also write temporary files to /kaggle/temp/, but they won't be saved outside of the current session"
   ]
  },
  {
   "cell_type": "markdown",
   "id": "c7330acd",
   "metadata": {
    "papermill": {
     "duration": 0.024471,
     "end_time": "2022-04-01T03:42:29.283993",
     "exception": false,
     "start_time": "2022-04-01T03:42:29.259522",
     "status": "completed"
    },
    "tags": []
   },
   "source": [
    "### 문제 파악\n",
    "- 타이타닉 우주선이 시공간 변칙성과 충돌했다.\n",
    "- 그 안에 타고 있던 13000명의 승객 중 절반이 사고에 의하여 다른 차원으로 이송되었다.\n",
    "- 손상된 컴퓨터 시스템에서 복구된 기록을 사용해 어떤 승객이 변칙적으로 운송되었는지 예측해야 한다.\n",
    "- 내 임무는 우주선 타이타닉이 이 시공간 이상과 충돌하는 동안 승객이 다른 차원으로 이송되었는지 여부를 예측하는 것이다."
   ]
  },
  {
   "cell_type": "markdown",
   "id": "9d1c8db4",
   "metadata": {
    "papermill": {
     "duration": 0.024069,
     "end_time": "2022-04-01T03:42:29.332239",
     "exception": false,
     "start_time": "2022-04-01T03:42:29.308170",
     "status": "completed"
    },
    "tags": []
   },
   "source": [
    "### 파일 및 데이터 필드\n",
    "- train.csv - 훈련 데이터로 사용되는 승객의 약 2/3(~8700)에 대한 개인 기록.\n",
    "   - PassengerId- 각 승객에 대한 고유 ID. 각 ID는 승객이 함께 여행하는 그룹 gggg_pp을 gggg나타내며 pp는 그룹 내 번호. 그룹의 사람들은 보통 가족 구성원이지만 항상 그런 것은 아니다.\n",
    "   - HomePlanet- 승객이 출발한 행성, 일반적으로 영구 거주 행성.\n",
    "   - CryoSleep- 승객이 항해 기간 동안 정지된 애니메이션에 놓이도록 선택했는지 여부를 나타낸다. cryosleep의 승객은 객실에 국한된다.\n",
    "   - Cabin- 승객이 머물고 있는 객실 번호. Deck/num/side 형식을 취하며, 여기에서 side는 Port의 경우 P 또는 Starboard의 경우 S일 수 있다.\n",
    "   - Destination- 목적지\n",
    "   - Age- 승객의 나이.\n",
    "   - VIP- 승객이 항해 중 특별 VIP 서비스를 지불했는지 여부.\n",
    "   - RoomService, FoodCourt, ShoppingMall, Spa, VRDeck - 승객이 우주선 타이타닉의 다양한 고급 편의 시설에 대해 청구한 금액.\n",
    "   - Name- 승객의 성과 이름.\n",
    "   - Transported- 승객이 다른 차원으로 이송되었는지 여부. 이것은 예측하려는 대상인 열.\n",
    "- test.csv - 테스트 데이터로 사용되는 나머지 승객의 1/3(~4300)에 대한 개인 기록. Transported당신의 임무는 이 세트에 있는 승객의 가치를 예측하는 것.\n",
    "- sample_submission.csv - 올바른 형식의 제출 파일.\n",
    " - PassengerId- 테스트 세트의 각 승객에 대한 ID.\n",
    " - Transported- 목표. 각 승객에 대해 True 또는 False를 예측."
   ]
  },
  {
   "cell_type": "markdown",
   "id": "2f9b2e0e",
   "metadata": {
    "papermill": {
     "duration": 0.023858,
     "end_time": "2022-04-01T03:42:29.380846",
     "exception": false,
     "start_time": "2022-04-01T03:42:29.356988",
     "status": "completed"
    },
    "tags": []
   },
   "source": [
    "# Step1. 라이브러리 및 데이터 불러오기\n",
    "- 라이브러리 버전 확인"
   ]
  },
  {
   "cell_type": "code",
   "execution_count": 2,
   "id": "bea85c19",
   "metadata": {
    "execution": {
     "iopub.execute_input": "2022-04-01T03:42:29.429659Z",
     "iopub.status.busy": "2022-04-01T03:42:29.429155Z",
     "iopub.status.idle": "2022-04-01T03:43:43.115241Z",
     "shell.execute_reply": "2022-04-01T03:43:43.114472Z",
     "shell.execute_reply.started": "2022-04-01T02:27:45.738445Z"
    },
    "papermill": {
     "duration": 73.711654,
     "end_time": "2022-04-01T03:43:43.115508",
     "exception": false,
     "start_time": "2022-04-01T03:42:29.403854",
     "status": "completed"
    },
    "tags": []
   },
   "outputs": [],
   "source": [
    "from IPython.display import clear_output\n",
    "!pip3 install -U lazypredict\n",
    "!pip3 install -U pandas #Upgrading pandas\n",
    "\n",
    "clear_output()"
   ]
  },
  {
   "cell_type": "code",
   "execution_count": 3,
   "id": "0ea0c760",
   "metadata": {
    "execution": {
     "iopub.execute_input": "2022-04-01T03:43:43.171288Z",
     "iopub.status.busy": "2022-04-01T03:43:43.170740Z",
     "iopub.status.idle": "2022-04-01T03:43:45.235316Z",
     "shell.execute_reply": "2022-04-01T03:43:45.234794Z",
     "shell.execute_reply.started": "2022-04-01T02:34:57.568223Z"
    },
    "papermill": {
     "duration": 2.095881,
     "end_time": "2022-04-01T03:43:45.235443",
     "exception": false,
     "start_time": "2022-04-01T03:43:43.139562",
     "status": "completed"
    },
    "tags": []
   },
   "outputs": [
    {
     "data": {
      "text/html": [
       "<style type='text/css'>\n",
       ".datatable table.frame { margin-bottom: 0; }\n",
       ".datatable table.frame thead { border-bottom: none; }\n",
       ".datatable table.frame tr.coltypes td {  color: #FFFFFF;  line-height: 6px;  padding: 0 0.5em;}\n",
       ".datatable .bool    { background: #DDDD99; }\n",
       ".datatable .object  { background: #565656; }\n",
       ".datatable .int     { background: #5D9E5D; }\n",
       ".datatable .float   { background: #4040CC; }\n",
       ".datatable .str     { background: #CC4040; }\n",
       ".datatable .time    { background: #40CC40; }\n",
       ".datatable .row_index {  background: var(--jp-border-color3);  border-right: 1px solid var(--jp-border-color0);  color: var(--jp-ui-font-color3);  font-size: 9px;}\n",
       ".datatable .frame tbody td { text-align: left; }\n",
       ".datatable .frame tr.coltypes .row_index {  background: var(--jp-border-color0);}\n",
       ".datatable th:nth-child(2) { padding-left: 12px; }\n",
       ".datatable .hellipsis {  color: var(--jp-cell-editor-border-color);}\n",
       ".datatable .vellipsis {  background: var(--jp-layout-color0);  color: var(--jp-cell-editor-border-color);}\n",
       ".datatable .na {  color: var(--jp-cell-editor-border-color);  font-size: 80%;}\n",
       ".datatable .sp {  opacity: 0.25;}\n",
       ".datatable .footer { font-size: 9px; }\n",
       ".datatable .frame_dimensions {  background: var(--jp-border-color3);  border-top: 1px solid var(--jp-border-color0);  color: var(--jp-ui-font-color3);  display: inline-block;  opacity: 0.6;  padding: 1px 10px 1px 5px;}\n",
       "</style>\n"
      ],
      "text/plain": [
       "<IPython.core.display.HTML object>"
      ]
     },
     "metadata": {},
     "output_type": "display_data"
    },
    {
     "name": "stderr",
     "output_type": "stream",
     "text": [
      "/opt/conda/lib/python3.7/site-packages/sklearn/utils/deprecation.py:143: FutureWarning: The sklearn.utils.testing module is  deprecated in version 0.22 and will be removed in version 0.24. The corresponding classes / functions should instead be imported from sklearn.utils. Anything that cannot be imported from sklearn.utils is now part of the private API.\n",
      "  warnings.warn(message, FutureWarning)\n"
     ]
    }
   ],
   "source": [
    "import numpy as np\n",
    "import pandas as pd\n",
    "import seaborn as sns\n",
    "import plotly.express as px\n",
    "import matplotlib.pyplot as plt\n",
    "import plotly.graph_objects as go\n",
    "from plotly.subplots import make_subplots\n",
    "\n",
    "from sklearn.impute import SimpleImputer\n",
    "from sklearn.metrics import accuracy_score\n",
    "from sklearn.preprocessing import LabelEncoder\n",
    "from sklearn.model_selection import StratifiedKFold, train_test_split\n",
    "\n",
    "from lightgbm import LGBMClassifier\n",
    "import lazypredict\n",
    "from lazypredict.Supervised import LazyClassifier\n",
    "\n",
    "import time\n",
    "import warnings\n",
    "warnings.filterwarnings('ignore')"
   ]
  },
  {
   "cell_type": "code",
   "execution_count": 4,
   "id": "7c6fe8f0",
   "metadata": {
    "execution": {
     "iopub.execute_input": "2022-04-01T03:43:45.286949Z",
     "iopub.status.busy": "2022-04-01T03:43:45.286173Z",
     "iopub.status.idle": "2022-04-01T03:43:45.289492Z",
     "shell.execute_reply": "2022-04-01T03:43:45.289955Z",
     "shell.execute_reply.started": "2022-04-01T02:39:28.617462Z"
    },
    "papermill": {
     "duration": 0.030737,
     "end_time": "2022-04-01T03:43:45.290083",
     "exception": false,
     "start_time": "2022-04-01T03:43:45.259346",
     "status": "completed"
    },
    "tags": []
   },
   "outputs": [
    {
     "name": "stdout",
     "output_type": "stream",
     "text": [
      "numpy version is :  1.20.3\n",
      "pandas version is :  1.3.5\n",
      "seaborn version is :  0.11.2\n"
     ]
    }
   ],
   "source": [
    "print(\"numpy version is : \", np.__version__)\n",
    "print(\"pandas version is : \", pd.__version__)\n",
    "print(\"seaborn version is : \", sns.__version__)"
   ]
  },
  {
   "cell_type": "code",
   "execution_count": 5,
   "id": "d4fc1c23",
   "metadata": {
    "execution": {
     "iopub.execute_input": "2022-04-01T03:43:45.342065Z",
     "iopub.status.busy": "2022-04-01T03:43:45.341533Z",
     "iopub.status.idle": "2022-04-01T03:43:45.423094Z",
     "shell.execute_reply": "2022-04-01T03:43:45.423600Z",
     "shell.execute_reply.started": "2022-04-01T02:47:28.251094Z"
    },
    "papermill": {
     "duration": 0.110209,
     "end_time": "2022-04-01T03:43:45.423750",
     "exception": false,
     "start_time": "2022-04-01T03:43:45.313541",
     "status": "completed"
    },
    "tags": []
   },
   "outputs": [],
   "source": [
    "# Data Loading and Preparation\n",
    "\n",
    "train = pd.read_csv(\"../input/spaceship-titanic/train.csv\")\n",
    "test = pd.read_csv(\"../input/spaceship-titanic/test.csv\")\n",
    "submission = pd.read_csv(\"../input/spaceship-titanic/sample_submission.csv\")\n",
    "\n",
    "RANDOM_STATE = 12\n",
    "FOLDS = 5\n",
    "STRATEGY = 'median'"
   ]
  },
  {
   "cell_type": "markdown",
   "id": "1acd7d09",
   "metadata": {
    "papermill": {
     "duration": 0.023821,
     "end_time": "2022-04-01T03:43:45.471636",
     "exception": false,
     "start_time": "2022-04-01T03:43:45.447815",
     "status": "completed"
    },
    "tags": []
   },
   "source": [
    "📌 기차 데이터의 관찰:\n",
    "* 기차 데이터는 총 14개의 열과 8693개의 행이 있다.\n",
    "* 기차 데이터에는 2324개의 결측값이 있는 119378개의 관측값이 포함되어 있다.\n",
    "* 12개의 모든 기능 열에는 결측값이 있으며 CryoSleep에서는 결측값이 가장 높음(217)\n",
    "* Transported는 기차 데이터 세트에서만 사용할 수 있는 대상 변수이다."
   ]
  },
  {
   "cell_type": "code",
   "execution_count": 6,
   "id": "cfa028d1",
   "metadata": {
    "execution": {
     "iopub.execute_input": "2022-04-01T03:43:45.521772Z",
     "iopub.status.busy": "2022-04-01T03:43:45.521025Z",
     "iopub.status.idle": "2022-04-01T03:43:45.544073Z",
     "shell.execute_reply": "2022-04-01T03:43:45.544554Z",
     "shell.execute_reply.started": "2022-04-01T02:47:37.717887Z"
    },
    "papermill": {
     "duration": 0.049178,
     "end_time": "2022-04-01T03:43:45.544689",
     "exception": false,
     "start_time": "2022-04-01T03:43:45.495511",
     "status": "completed"
    },
    "tags": []
   },
   "outputs": [
    {
     "data": {
      "text/html": [
       "<div>\n",
       "<style scoped>\n",
       "    .dataframe tbody tr th:only-of-type {\n",
       "        vertical-align: middle;\n",
       "    }\n",
       "\n",
       "    .dataframe tbody tr th {\n",
       "        vertical-align: top;\n",
       "    }\n",
       "\n",
       "    .dataframe thead th {\n",
       "        text-align: right;\n",
       "    }\n",
       "</style>\n",
       "<table border=\"1\" class=\"dataframe\">\n",
       "  <thead>\n",
       "    <tr style=\"text-align: right;\">\n",
       "      <th></th>\n",
       "      <th>PassengerId</th>\n",
       "      <th>HomePlanet</th>\n",
       "      <th>CryoSleep</th>\n",
       "      <th>Cabin</th>\n",
       "      <th>Destination</th>\n",
       "      <th>Age</th>\n",
       "      <th>VIP</th>\n",
       "      <th>RoomService</th>\n",
       "      <th>FoodCourt</th>\n",
       "      <th>ShoppingMall</th>\n",
       "      <th>Spa</th>\n",
       "      <th>VRDeck</th>\n",
       "      <th>Name</th>\n",
       "      <th>Transported</th>\n",
       "    </tr>\n",
       "  </thead>\n",
       "  <tbody>\n",
       "    <tr>\n",
       "      <th>0</th>\n",
       "      <td>0001_01</td>\n",
       "      <td>Europa</td>\n",
       "      <td>False</td>\n",
       "      <td>B/0/P</td>\n",
       "      <td>TRAPPIST-1e</td>\n",
       "      <td>39.00</td>\n",
       "      <td>False</td>\n",
       "      <td>0.00</td>\n",
       "      <td>0.00</td>\n",
       "      <td>0.00</td>\n",
       "      <td>0.00</td>\n",
       "      <td>0.00</td>\n",
       "      <td>Maham Ofracculy</td>\n",
       "      <td>False</td>\n",
       "    </tr>\n",
       "    <tr>\n",
       "      <th>1</th>\n",
       "      <td>0002_01</td>\n",
       "      <td>Earth</td>\n",
       "      <td>False</td>\n",
       "      <td>F/0/S</td>\n",
       "      <td>TRAPPIST-1e</td>\n",
       "      <td>24.00</td>\n",
       "      <td>False</td>\n",
       "      <td>109.00</td>\n",
       "      <td>9.00</td>\n",
       "      <td>25.00</td>\n",
       "      <td>549.00</td>\n",
       "      <td>44.00</td>\n",
       "      <td>Juanna Vines</td>\n",
       "      <td>True</td>\n",
       "    </tr>\n",
       "    <tr>\n",
       "      <th>2</th>\n",
       "      <td>0003_01</td>\n",
       "      <td>Europa</td>\n",
       "      <td>False</td>\n",
       "      <td>A/0/S</td>\n",
       "      <td>TRAPPIST-1e</td>\n",
       "      <td>58.00</td>\n",
       "      <td>True</td>\n",
       "      <td>43.00</td>\n",
       "      <td>3576.00</td>\n",
       "      <td>0.00</td>\n",
       "      <td>6715.00</td>\n",
       "      <td>49.00</td>\n",
       "      <td>Altark Susent</td>\n",
       "      <td>False</td>\n",
       "    </tr>\n",
       "    <tr>\n",
       "      <th>3</th>\n",
       "      <td>0003_02</td>\n",
       "      <td>Europa</td>\n",
       "      <td>False</td>\n",
       "      <td>A/0/S</td>\n",
       "      <td>TRAPPIST-1e</td>\n",
       "      <td>33.00</td>\n",
       "      <td>False</td>\n",
       "      <td>0.00</td>\n",
       "      <td>1283.00</td>\n",
       "      <td>371.00</td>\n",
       "      <td>3329.00</td>\n",
       "      <td>193.00</td>\n",
       "      <td>Solam Susent</td>\n",
       "      <td>False</td>\n",
       "    </tr>\n",
       "    <tr>\n",
       "      <th>4</th>\n",
       "      <td>0004_01</td>\n",
       "      <td>Earth</td>\n",
       "      <td>False</td>\n",
       "      <td>F/1/S</td>\n",
       "      <td>TRAPPIST-1e</td>\n",
       "      <td>16.00</td>\n",
       "      <td>False</td>\n",
       "      <td>303.00</td>\n",
       "      <td>70.00</td>\n",
       "      <td>151.00</td>\n",
       "      <td>565.00</td>\n",
       "      <td>2.00</td>\n",
       "      <td>Willy Santantines</td>\n",
       "      <td>True</td>\n",
       "    </tr>\n",
       "  </tbody>\n",
       "</table>\n",
       "</div>"
      ],
      "text/plain": [
       "  PassengerId HomePlanet CryoSleep  Cabin  Destination   Age    VIP  \\\n",
       "0     0001_01     Europa     False  B/0/P  TRAPPIST-1e 39.00  False   \n",
       "1     0002_01      Earth     False  F/0/S  TRAPPIST-1e 24.00  False   \n",
       "2     0003_01     Europa     False  A/0/S  TRAPPIST-1e 58.00   True   \n",
       "3     0003_02     Europa     False  A/0/S  TRAPPIST-1e 33.00  False   \n",
       "4     0004_01      Earth     False  F/1/S  TRAPPIST-1e 16.00  False   \n",
       "\n",
       "   RoomService  FoodCourt  ShoppingMall     Spa  VRDeck               Name  \\\n",
       "0         0.00       0.00          0.00    0.00    0.00    Maham Ofracculy   \n",
       "1       109.00       9.00         25.00  549.00   44.00       Juanna Vines   \n",
       "2        43.00    3576.00          0.00 6715.00   49.00      Altark Susent   \n",
       "3         0.00    1283.00        371.00 3329.00  193.00       Solam Susent   \n",
       "4       303.00      70.00        151.00  565.00    2.00  Willy Santantines   \n",
       "\n",
       "   Transported  \n",
       "0        False  \n",
       "1         True  \n",
       "2        False  \n",
       "3        False  \n",
       "4         True  "
      ]
     },
     "execution_count": 6,
     "metadata": {},
     "output_type": "execute_result"
    }
   ],
   "source": [
    "train.head()"
   ]
  },
  {
   "cell_type": "code",
   "execution_count": 7,
   "id": "564a5bb0",
   "metadata": {
    "execution": {
     "iopub.execute_input": "2022-04-01T03:43:45.596200Z",
     "iopub.status.busy": "2022-04-01T03:43:45.595377Z",
     "iopub.status.idle": "2022-04-01T03:43:45.618025Z",
     "shell.execute_reply": "2022-04-01T03:43:45.617561Z",
     "shell.execute_reply.started": "2022-04-01T03:09:47.586583Z"
    },
    "papermill": {
     "duration": 0.049391,
     "end_time": "2022-04-01T03:43:45.618134",
     "exception": false,
     "start_time": "2022-04-01T03:43:45.568743",
     "status": "completed"
    },
    "tags": []
   },
   "outputs": [
    {
     "name": "stdout",
     "output_type": "stream",
     "text": [
      "\u001b[94mNumber of rows in train data: 8693]\n",
      "\u001b[94mNumber of colunmns in train data: 14]\n",
      "\u001b[94mNumber of values in train data: 119378]\n",
      "\u001b[94mNumber of missing values in train data: 2324]\n"
     ]
    }
   ],
   "source": [
    "print(f'\\033[94mNumber of rows in train data: {train.shape[0]}]')\n",
    "print(f'\\033[94mNumber of colunmns in train data: {train.shape[1]}]')\n",
    "print(f'\\033[94mNumber of values in train data: {train.count().sum()}]')\n",
    "print(f'\\033[94mNumber of missing values in train data: {sum(train.isna().sum())}]')"
   ]
  },
  {
   "cell_type": "markdown",
   "id": "7954ca69",
   "metadata": {
    "papermill": {
     "duration": 0.02451,
     "end_time": "2022-04-01T03:43:45.667087",
     "exception": false,
     "start_time": "2022-04-01T03:43:45.642577",
     "status": "completed"
    },
    "tags": []
   },
   "source": [
    "- 열별 결측값"
   ]
  },
  {
   "cell_type": "code",
   "execution_count": 8,
   "id": "dbf595a0",
   "metadata": {
    "execution": {
     "iopub.execute_input": "2022-04-01T03:43:45.718280Z",
     "iopub.status.busy": "2022-04-01T03:43:45.717505Z",
     "iopub.status.idle": "2022-04-01T03:43:45.729594Z",
     "shell.execute_reply": "2022-04-01T03:43:45.730175Z",
     "shell.execute_reply.started": "2022-04-01T03:10:43.737815Z"
    },
    "papermill": {
     "duration": 0.038854,
     "end_time": "2022-04-01T03:43:45.730333",
     "exception": false,
     "start_time": "2022-04-01T03:43:45.691479",
     "status": "completed"
    },
    "tags": []
   },
   "outputs": [
    {
     "name": "stdout",
     "output_type": "stream",
     "text": [
      "\u001b[94m\n",
      "CryoSleep       217\n",
      "ShoppingMall    208\n",
      "VIP             203\n",
      "HomePlanet      201\n",
      "Name            200\n",
      "Cabin           199\n",
      "VRDeck          188\n",
      "FoodCourt       183\n",
      "Spa             183\n",
      "Destination     182\n",
      "RoomService     181\n",
      "Age             179\n",
      "PassengerId       0\n",
      "Transported       0\n",
      "dtype: int64\n"
     ]
    }
   ],
   "source": [
    "print(f'\\033[94m')\n",
    "print(train.isna().sum().sort_values(ascending = False))"
   ]
  },
  {
   "cell_type": "markdown",
   "id": "4139b47c",
   "metadata": {
    "papermill": {
     "duration": 0.024373,
     "end_time": "2022-04-01T03:43:45.780106",
     "exception": false,
     "start_time": "2022-04-01T03:43:45.755733",
     "status": "completed"
    },
    "tags": []
   },
   "source": [
    "- 다음은 개수, 평균, 표준편차, 최소값, 1사분위수, 중앙값, 3사분위수 및 최대값에 대한 정보를 포함하는 각 변수에 대한 기본 통계이다."
   ]
  },
  {
   "cell_type": "code",
   "execution_count": 9,
   "id": "6cf23f56",
   "metadata": {
    "execution": {
     "iopub.execute_input": "2022-04-01T03:43:45.843396Z",
     "iopub.status.busy": "2022-04-01T03:43:45.838542Z",
     "iopub.status.idle": "2022-04-01T03:43:45.865205Z",
     "shell.execute_reply": "2022-04-01T03:43:45.865683Z",
     "shell.execute_reply.started": "2022-04-01T03:12:18.714192Z"
    },
    "papermill": {
     "duration": 0.060649,
     "end_time": "2022-04-01T03:43:45.865797",
     "exception": false,
     "start_time": "2022-04-01T03:43:45.805148",
     "status": "completed"
    },
    "tags": []
   },
   "outputs": [
    {
     "data": {
      "text/html": [
       "<div>\n",
       "<style scoped>\n",
       "    .dataframe tbody tr th:only-of-type {\n",
       "        vertical-align: middle;\n",
       "    }\n",
       "\n",
       "    .dataframe tbody tr th {\n",
       "        vertical-align: top;\n",
       "    }\n",
       "\n",
       "    .dataframe thead th {\n",
       "        text-align: right;\n",
       "    }\n",
       "</style>\n",
       "<table border=\"1\" class=\"dataframe\">\n",
       "  <thead>\n",
       "    <tr style=\"text-align: right;\">\n",
       "      <th></th>\n",
       "      <th>Age</th>\n",
       "      <th>RoomService</th>\n",
       "      <th>FoodCourt</th>\n",
       "      <th>ShoppingMall</th>\n",
       "      <th>Spa</th>\n",
       "      <th>VRDeck</th>\n",
       "    </tr>\n",
       "  </thead>\n",
       "  <tbody>\n",
       "    <tr>\n",
       "      <th>count</th>\n",
       "      <td>8514.00</td>\n",
       "      <td>8512.00</td>\n",
       "      <td>8510.00</td>\n",
       "      <td>8485.00</td>\n",
       "      <td>8510.00</td>\n",
       "      <td>8505.00</td>\n",
       "    </tr>\n",
       "    <tr>\n",
       "      <th>mean</th>\n",
       "      <td>28.83</td>\n",
       "      <td>224.69</td>\n",
       "      <td>458.08</td>\n",
       "      <td>173.73</td>\n",
       "      <td>311.14</td>\n",
       "      <td>304.85</td>\n",
       "    </tr>\n",
       "    <tr>\n",
       "      <th>std</th>\n",
       "      <td>14.49</td>\n",
       "      <td>666.72</td>\n",
       "      <td>1611.49</td>\n",
       "      <td>604.70</td>\n",
       "      <td>1136.71</td>\n",
       "      <td>1145.72</td>\n",
       "    </tr>\n",
       "    <tr>\n",
       "      <th>min</th>\n",
       "      <td>0.00</td>\n",
       "      <td>0.00</td>\n",
       "      <td>0.00</td>\n",
       "      <td>0.00</td>\n",
       "      <td>0.00</td>\n",
       "      <td>0.00</td>\n",
       "    </tr>\n",
       "    <tr>\n",
       "      <th>25%</th>\n",
       "      <td>19.00</td>\n",
       "      <td>0.00</td>\n",
       "      <td>0.00</td>\n",
       "      <td>0.00</td>\n",
       "      <td>0.00</td>\n",
       "      <td>0.00</td>\n",
       "    </tr>\n",
       "    <tr>\n",
       "      <th>50%</th>\n",
       "      <td>27.00</td>\n",
       "      <td>0.00</td>\n",
       "      <td>0.00</td>\n",
       "      <td>0.00</td>\n",
       "      <td>0.00</td>\n",
       "      <td>0.00</td>\n",
       "    </tr>\n",
       "    <tr>\n",
       "      <th>75%</th>\n",
       "      <td>38.00</td>\n",
       "      <td>47.00</td>\n",
       "      <td>76.00</td>\n",
       "      <td>27.00</td>\n",
       "      <td>59.00</td>\n",
       "      <td>46.00</td>\n",
       "    </tr>\n",
       "    <tr>\n",
       "      <th>max</th>\n",
       "      <td>79.00</td>\n",
       "      <td>14327.00</td>\n",
       "      <td>29813.00</td>\n",
       "      <td>23492.00</td>\n",
       "      <td>22408.00</td>\n",
       "      <td>24133.00</td>\n",
       "    </tr>\n",
       "  </tbody>\n",
       "</table>\n",
       "</div>"
      ],
      "text/plain": [
       "          Age  RoomService  FoodCourt  ShoppingMall      Spa   VRDeck\n",
       "count 8514.00      8512.00    8510.00       8485.00  8510.00  8505.00\n",
       "mean    28.83       224.69     458.08        173.73   311.14   304.85\n",
       "std     14.49       666.72    1611.49        604.70  1136.71  1145.72\n",
       "min      0.00         0.00       0.00          0.00     0.00     0.00\n",
       "25%     19.00         0.00       0.00          0.00     0.00     0.00\n",
       "50%     27.00         0.00       0.00          0.00     0.00     0.00\n",
       "75%     38.00        47.00      76.00         27.00    59.00    46.00\n",
       "max     79.00     14327.00   29813.00      23492.00 22408.00 24133.00"
      ]
     },
     "execution_count": 9,
     "metadata": {},
     "output_type": "execute_result"
    }
   ],
   "source": [
    "train.describe()"
   ]
  },
  {
   "cell_type": "markdown",
   "id": "3e4182c1",
   "metadata": {
    "papermill": {
     "duration": 0.024804,
     "end_time": "2022-04-01T03:43:45.915722",
     "exception": false,
     "start_time": "2022-04-01T03:43:45.890918",
     "status": "completed"
    },
    "tags": []
   },
   "source": [
    "📌 테스트 데이터의 관찰:\n",
    "* 테스트 데이터는 총 13열 4277행입니다.\n",
    "* 기차 데이터에는 1117개의 결측값이 있는 54484개의 관측값이 포함되어 있습니다.\n",
    "* 12개의 모든 기능 열에는 결측값이 있으며 FoodCourt는 결측값이 가장 높음(106)"
   ]
  },
  {
   "cell_type": "code",
   "execution_count": 10,
   "id": "013f59d4",
   "metadata": {
    "execution": {
     "iopub.execute_input": "2022-04-01T03:43:45.968804Z",
     "iopub.status.busy": "2022-04-01T03:43:45.968073Z",
     "iopub.status.idle": "2022-04-01T03:43:45.980009Z",
     "shell.execute_reply": "2022-04-01T03:43:45.980413Z",
     "shell.execute_reply.started": "2022-04-01T03:18:23.479447Z"
    },
    "papermill": {
     "duration": 0.039835,
     "end_time": "2022-04-01T03:43:45.980528",
     "exception": false,
     "start_time": "2022-04-01T03:43:45.940693",
     "status": "completed"
    },
    "tags": []
   },
   "outputs": [
    {
     "data": {
      "text/html": [
       "<div>\n",
       "<style scoped>\n",
       "    .dataframe tbody tr th:only-of-type {\n",
       "        vertical-align: middle;\n",
       "    }\n",
       "\n",
       "    .dataframe tbody tr th {\n",
       "        vertical-align: top;\n",
       "    }\n",
       "\n",
       "    .dataframe thead th {\n",
       "        text-align: right;\n",
       "    }\n",
       "</style>\n",
       "<table border=\"1\" class=\"dataframe\">\n",
       "  <thead>\n",
       "    <tr style=\"text-align: right;\">\n",
       "      <th></th>\n",
       "      <th>PassengerId</th>\n",
       "      <th>HomePlanet</th>\n",
       "      <th>CryoSleep</th>\n",
       "      <th>Cabin</th>\n",
       "      <th>Destination</th>\n",
       "      <th>Age</th>\n",
       "      <th>VIP</th>\n",
       "      <th>RoomService</th>\n",
       "      <th>FoodCourt</th>\n",
       "      <th>ShoppingMall</th>\n",
       "      <th>Spa</th>\n",
       "      <th>VRDeck</th>\n",
       "      <th>Name</th>\n",
       "    </tr>\n",
       "  </thead>\n",
       "  <tbody>\n",
       "    <tr>\n",
       "      <th>0</th>\n",
       "      <td>0013_01</td>\n",
       "      <td>Earth</td>\n",
       "      <td>True</td>\n",
       "      <td>G/3/S</td>\n",
       "      <td>TRAPPIST-1e</td>\n",
       "      <td>27.00</td>\n",
       "      <td>False</td>\n",
       "      <td>0.00</td>\n",
       "      <td>0.00</td>\n",
       "      <td>0.00</td>\n",
       "      <td>0.00</td>\n",
       "      <td>0.00</td>\n",
       "      <td>Nelly Carsoning</td>\n",
       "    </tr>\n",
       "    <tr>\n",
       "      <th>1</th>\n",
       "      <td>0018_01</td>\n",
       "      <td>Earth</td>\n",
       "      <td>False</td>\n",
       "      <td>F/4/S</td>\n",
       "      <td>TRAPPIST-1e</td>\n",
       "      <td>19.00</td>\n",
       "      <td>False</td>\n",
       "      <td>0.00</td>\n",
       "      <td>9.00</td>\n",
       "      <td>0.00</td>\n",
       "      <td>2823.00</td>\n",
       "      <td>0.00</td>\n",
       "      <td>Lerome Peckers</td>\n",
       "    </tr>\n",
       "    <tr>\n",
       "      <th>2</th>\n",
       "      <td>0019_01</td>\n",
       "      <td>Europa</td>\n",
       "      <td>True</td>\n",
       "      <td>C/0/S</td>\n",
       "      <td>55 Cancri e</td>\n",
       "      <td>31.00</td>\n",
       "      <td>False</td>\n",
       "      <td>0.00</td>\n",
       "      <td>0.00</td>\n",
       "      <td>0.00</td>\n",
       "      <td>0.00</td>\n",
       "      <td>0.00</td>\n",
       "      <td>Sabih Unhearfus</td>\n",
       "    </tr>\n",
       "    <tr>\n",
       "      <th>3</th>\n",
       "      <td>0021_01</td>\n",
       "      <td>Europa</td>\n",
       "      <td>False</td>\n",
       "      <td>C/1/S</td>\n",
       "      <td>TRAPPIST-1e</td>\n",
       "      <td>38.00</td>\n",
       "      <td>False</td>\n",
       "      <td>0.00</td>\n",
       "      <td>6652.00</td>\n",
       "      <td>0.00</td>\n",
       "      <td>181.00</td>\n",
       "      <td>585.00</td>\n",
       "      <td>Meratz Caltilter</td>\n",
       "    </tr>\n",
       "    <tr>\n",
       "      <th>4</th>\n",
       "      <td>0023_01</td>\n",
       "      <td>Earth</td>\n",
       "      <td>False</td>\n",
       "      <td>F/5/S</td>\n",
       "      <td>TRAPPIST-1e</td>\n",
       "      <td>20.00</td>\n",
       "      <td>False</td>\n",
       "      <td>10.00</td>\n",
       "      <td>0.00</td>\n",
       "      <td>635.00</td>\n",
       "      <td>0.00</td>\n",
       "      <td>0.00</td>\n",
       "      <td>Brence Harperez</td>\n",
       "    </tr>\n",
       "  </tbody>\n",
       "</table>\n",
       "</div>"
      ],
      "text/plain": [
       "  PassengerId HomePlanet CryoSleep  Cabin  Destination   Age    VIP  \\\n",
       "0     0013_01      Earth      True  G/3/S  TRAPPIST-1e 27.00  False   \n",
       "1     0018_01      Earth     False  F/4/S  TRAPPIST-1e 19.00  False   \n",
       "2     0019_01     Europa      True  C/0/S  55 Cancri e 31.00  False   \n",
       "3     0021_01     Europa     False  C/1/S  TRAPPIST-1e 38.00  False   \n",
       "4     0023_01      Earth     False  F/5/S  TRAPPIST-1e 20.00  False   \n",
       "\n",
       "   RoomService  FoodCourt  ShoppingMall     Spa  VRDeck              Name  \n",
       "0         0.00       0.00          0.00    0.00    0.00   Nelly Carsoning  \n",
       "1         0.00       9.00          0.00 2823.00    0.00    Lerome Peckers  \n",
       "2         0.00       0.00          0.00    0.00    0.00   Sabih Unhearfus  \n",
       "3         0.00    6652.00          0.00  181.00  585.00  Meratz Caltilter  \n",
       "4        10.00       0.00        635.00    0.00    0.00   Brence Harperez  "
      ]
     },
     "execution_count": 10,
     "metadata": {},
     "output_type": "execute_result"
    }
   ],
   "source": [
    "test.head()"
   ]
  },
  {
   "cell_type": "code",
   "execution_count": 11,
   "id": "8fc5b793",
   "metadata": {
    "execution": {
     "iopub.execute_input": "2022-04-01T03:43:46.038258Z",
     "iopub.status.busy": "2022-04-01T03:43:46.037499Z",
     "iopub.status.idle": "2022-04-01T03:43:46.048963Z",
     "shell.execute_reply": "2022-04-01T03:43:46.048505Z",
     "shell.execute_reply.started": "2022-04-01T03:22:03.466671Z"
    },
    "papermill": {
     "duration": 0.042338,
     "end_time": "2022-04-01T03:43:46.049071",
     "exception": false,
     "start_time": "2022-04-01T03:43:46.006733",
     "status": "completed"
    },
    "tags": []
   },
   "outputs": [
    {
     "name": "stdout",
     "output_type": "stream",
     "text": [
      "\u001b[94mNumber of row in test data: 4277\n",
      "\u001b[94mNumber of columns in test data: 13\n",
      "\u001b[94mNumber of values in train data: 54484\n",
      "\u001b[94mNumber of row with missing values in tset data: 1117\n"
     ]
    }
   ],
   "source": [
    "print(f'\\033[94mNumber of row in test data: {test.shape[0]}')\n",
    "print(f'\\033[94mNumber of columns in test data: {test.shape[1]}')\n",
    "print(f'\\033[94mNumber of values in train data: {test.count().sum()}')\n",
    "print(f'\\033[94mNumber of row with missing values in tset data: {sum(test.isna().sum())}')"
   ]
  },
  {
   "cell_type": "markdown",
   "id": "8c31b98d",
   "metadata": {
    "papermill": {
     "duration": 0.027109,
     "end_time": "2022-04-01T03:43:46.104321",
     "exception": false,
     "start_time": "2022-04-01T03:43:46.077212",
     "status": "completed"
    },
    "tags": []
   },
   "source": [
    "- 열별 결측값"
   ]
  },
  {
   "cell_type": "code",
   "execution_count": 12,
   "id": "99a3e866",
   "metadata": {
    "execution": {
     "iopub.execute_input": "2022-04-01T03:43:46.160305Z",
     "iopub.status.busy": "2022-04-01T03:43:46.159434Z",
     "iopub.status.idle": "2022-04-01T03:43:46.169297Z",
     "shell.execute_reply": "2022-04-01T03:43:46.170132Z",
     "shell.execute_reply.started": "2022-04-01T03:23:04.064538Z"
    },
    "papermill": {
     "duration": 0.039132,
     "end_time": "2022-04-01T03:43:46.170362",
     "exception": false,
     "start_time": "2022-04-01T03:43:46.131230",
     "status": "completed"
    },
    "tags": []
   },
   "outputs": [
    {
     "name": "stdout",
     "output_type": "stream",
     "text": [
      "\u001b[94\n",
      "FoodCourt       106\n",
      "Spa             101\n",
      "Cabin           100\n",
      "ShoppingMall     98\n",
      "Name             94\n",
      "CryoSleep        93\n",
      "VIP              93\n",
      "Destination      92\n",
      "Age              91\n",
      "HomePlanet       87\n",
      "RoomService      82\n",
      "VRDeck           80\n",
      "PassengerId       0\n",
      "dtype: int64\n"
     ]
    }
   ],
   "source": [
    "print(f'\\033[94')\n",
    "print((test.isna().sum().sort_values(ascending = False)))"
   ]
  },
  {
   "cell_type": "markdown",
   "id": "d9ac69e2",
   "metadata": {
    "papermill": {
     "duration": 0.026428,
     "end_time": "2022-04-01T03:43:46.225647",
     "exception": false,
     "start_time": "2022-04-01T03:43:46.199219",
     "status": "completed"
    },
    "tags": []
   },
   "source": [
    "- 다음은 개수, 평균, 표준편차, 최소값, 1사분위수, 중앙값, 3사분위수 및 최대값에 대한 정보를 포함하는 각 변수에 대한 기본 통계이다."
   ]
  },
  {
   "cell_type": "code",
   "execution_count": 13,
   "id": "8ef81c23",
   "metadata": {
    "execution": {
     "iopub.execute_input": "2022-04-01T03:43:46.285162Z",
     "iopub.status.busy": "2022-04-01T03:43:46.284631Z",
     "iopub.status.idle": "2022-04-01T03:43:46.303225Z",
     "shell.execute_reply": "2022-04-01T03:43:46.303712Z"
    },
    "papermill": {
     "duration": 0.051371,
     "end_time": "2022-04-01T03:43:46.303857",
     "exception": false,
     "start_time": "2022-04-01T03:43:46.252486",
     "status": "completed"
    },
    "tags": []
   },
   "outputs": [
    {
     "data": {
      "text/html": [
       "<div>\n",
       "<style scoped>\n",
       "    .dataframe tbody tr th:only-of-type {\n",
       "        vertical-align: middle;\n",
       "    }\n",
       "\n",
       "    .dataframe tbody tr th {\n",
       "        vertical-align: top;\n",
       "    }\n",
       "\n",
       "    .dataframe thead th {\n",
       "        text-align: right;\n",
       "    }\n",
       "</style>\n",
       "<table border=\"1\" class=\"dataframe\">\n",
       "  <thead>\n",
       "    <tr style=\"text-align: right;\">\n",
       "      <th></th>\n",
       "      <th>Age</th>\n",
       "      <th>RoomService</th>\n",
       "      <th>FoodCourt</th>\n",
       "      <th>ShoppingMall</th>\n",
       "      <th>Spa</th>\n",
       "      <th>VRDeck</th>\n",
       "    </tr>\n",
       "  </thead>\n",
       "  <tbody>\n",
       "    <tr>\n",
       "      <th>count</th>\n",
       "      <td>4186.00</td>\n",
       "      <td>4195.00</td>\n",
       "      <td>4171.00</td>\n",
       "      <td>4179.00</td>\n",
       "      <td>4176.00</td>\n",
       "      <td>4197.00</td>\n",
       "    </tr>\n",
       "    <tr>\n",
       "      <th>mean</th>\n",
       "      <td>28.66</td>\n",
       "      <td>219.27</td>\n",
       "      <td>439.48</td>\n",
       "      <td>177.30</td>\n",
       "      <td>303.05</td>\n",
       "      <td>310.71</td>\n",
       "    </tr>\n",
       "    <tr>\n",
       "      <th>std</th>\n",
       "      <td>14.18</td>\n",
       "      <td>607.01</td>\n",
       "      <td>1527.66</td>\n",
       "      <td>560.82</td>\n",
       "      <td>1117.19</td>\n",
       "      <td>1246.99</td>\n",
       "    </tr>\n",
       "    <tr>\n",
       "      <th>min</th>\n",
       "      <td>0.00</td>\n",
       "      <td>0.00</td>\n",
       "      <td>0.00</td>\n",
       "      <td>0.00</td>\n",
       "      <td>0.00</td>\n",
       "      <td>0.00</td>\n",
       "    </tr>\n",
       "    <tr>\n",
       "      <th>25%</th>\n",
       "      <td>19.00</td>\n",
       "      <td>0.00</td>\n",
       "      <td>0.00</td>\n",
       "      <td>0.00</td>\n",
       "      <td>0.00</td>\n",
       "      <td>0.00</td>\n",
       "    </tr>\n",
       "    <tr>\n",
       "      <th>50%</th>\n",
       "      <td>26.00</td>\n",
       "      <td>0.00</td>\n",
       "      <td>0.00</td>\n",
       "      <td>0.00</td>\n",
       "      <td>0.00</td>\n",
       "      <td>0.00</td>\n",
       "    </tr>\n",
       "    <tr>\n",
       "      <th>75%</th>\n",
       "      <td>37.00</td>\n",
       "      <td>53.00</td>\n",
       "      <td>78.00</td>\n",
       "      <td>33.00</td>\n",
       "      <td>50.00</td>\n",
       "      <td>36.00</td>\n",
       "    </tr>\n",
       "    <tr>\n",
       "      <th>max</th>\n",
       "      <td>79.00</td>\n",
       "      <td>11567.00</td>\n",
       "      <td>25273.00</td>\n",
       "      <td>8292.00</td>\n",
       "      <td>19844.00</td>\n",
       "      <td>22272.00</td>\n",
       "    </tr>\n",
       "  </tbody>\n",
       "</table>\n",
       "</div>"
      ],
      "text/plain": [
       "          Age  RoomService  FoodCourt  ShoppingMall      Spa   VRDeck\n",
       "count 4186.00      4195.00    4171.00       4179.00  4176.00  4197.00\n",
       "mean    28.66       219.27     439.48        177.30   303.05   310.71\n",
       "std     14.18       607.01    1527.66        560.82  1117.19  1246.99\n",
       "min      0.00         0.00       0.00          0.00     0.00     0.00\n",
       "25%     19.00         0.00       0.00          0.00     0.00     0.00\n",
       "50%     26.00         0.00       0.00          0.00     0.00     0.00\n",
       "75%     37.00        53.00      78.00         33.00    50.00    36.00\n",
       "max     79.00     11567.00   25273.00       8292.00 19844.00 22272.00"
      ]
     },
     "execution_count": 13,
     "metadata": {},
     "output_type": "execute_result"
    }
   ],
   "source": [
    "test.describe()"
   ]
  },
  {
   "cell_type": "markdown",
   "id": "59cc9c20",
   "metadata": {
    "papermill": {
     "duration": 0.026803,
     "end_time": "2022-04-01T03:43:46.358139",
     "exception": false,
     "start_time": "2022-04-01T03:43:46.331336",
     "status": "completed"
    },
    "tags": []
   },
   "source": [
    "- submission File"
   ]
  },
  {
   "cell_type": "code",
   "execution_count": 14,
   "id": "e4514a6d",
   "metadata": {
    "execution": {
     "iopub.execute_input": "2022-04-01T03:43:46.415646Z",
     "iopub.status.busy": "2022-04-01T03:43:46.414895Z",
     "iopub.status.idle": "2022-04-01T03:43:46.421776Z",
     "shell.execute_reply": "2022-04-01T03:43:46.422237Z",
     "shell.execute_reply.started": "2022-04-01T03:24:37.719152Z"
    },
    "papermill": {
     "duration": 0.036588,
     "end_time": "2022-04-01T03:43:46.422351",
     "exception": false,
     "start_time": "2022-04-01T03:43:46.385763",
     "status": "completed"
    },
    "tags": []
   },
   "outputs": [
    {
     "data": {
      "text/html": [
       "<div>\n",
       "<style scoped>\n",
       "    .dataframe tbody tr th:only-of-type {\n",
       "        vertical-align: middle;\n",
       "    }\n",
       "\n",
       "    .dataframe tbody tr th {\n",
       "        vertical-align: top;\n",
       "    }\n",
       "\n",
       "    .dataframe thead th {\n",
       "        text-align: right;\n",
       "    }\n",
       "</style>\n",
       "<table border=\"1\" class=\"dataframe\">\n",
       "  <thead>\n",
       "    <tr style=\"text-align: right;\">\n",
       "      <th></th>\n",
       "      <th>PassengerId</th>\n",
       "      <th>Transported</th>\n",
       "    </tr>\n",
       "  </thead>\n",
       "  <tbody>\n",
       "    <tr>\n",
       "      <th>0</th>\n",
       "      <td>0013_01</td>\n",
       "      <td>False</td>\n",
       "    </tr>\n",
       "    <tr>\n",
       "      <th>1</th>\n",
       "      <td>0018_01</td>\n",
       "      <td>False</td>\n",
       "    </tr>\n",
       "    <tr>\n",
       "      <th>2</th>\n",
       "      <td>0019_01</td>\n",
       "      <td>False</td>\n",
       "    </tr>\n",
       "    <tr>\n",
       "      <th>3</th>\n",
       "      <td>0021_01</td>\n",
       "      <td>False</td>\n",
       "    </tr>\n",
       "    <tr>\n",
       "      <th>4</th>\n",
       "      <td>0023_01</td>\n",
       "      <td>False</td>\n",
       "    </tr>\n",
       "  </tbody>\n",
       "</table>\n",
       "</div>"
      ],
      "text/plain": [
       "  PassengerId  Transported\n",
       "0     0013_01        False\n",
       "1     0018_01        False\n",
       "2     0019_01        False\n",
       "3     0021_01        False\n",
       "4     0023_01        False"
      ]
     },
     "execution_count": 14,
     "metadata": {},
     "output_type": "execute_result"
    }
   ],
   "source": [
    "submission.head()"
   ]
  },
  {
   "cell_type": "markdown",
   "id": "349f815e",
   "metadata": {
    "papermill": {
     "duration": 0.027259,
     "end_time": "2022-04-01T03:43:46.477362",
     "exception": false,
     "start_time": "2022-04-01T03:43:46.450103",
     "status": "completed"
    },
    "tags": []
   },
   "source": [
    "# Step2. 탐색적 자료 분석 (EDA)\n",
    "- 데이터 시각화\n",
    "- 산점도, 막대 그래프 등\n",
    "- 그래프 해석해서 설명을 달아야 함\n",
    "- 약간의 데이터 전처리"
   ]
  },
  {
   "cell_type": "markdown",
   "id": "0a741199",
   "metadata": {
    "papermill": {
     "duration": 0.027365,
     "end_time": "2022-04-01T03:43:46.533356",
     "exception": false,
     "start_time": "2022-04-01T03:43:46.505991",
     "status": "completed"
    },
    "tags": []
   },
   "source": [
    "- 데이터 개요"
   ]
  },
  {
   "cell_type": "code",
   "execution_count": 15,
   "id": "b7ab2f99",
   "metadata": {
    "execution": {
     "iopub.execute_input": "2022-04-01T03:43:46.590766Z",
     "iopub.status.busy": "2022-04-01T03:43:46.590039Z",
     "iopub.status.idle": "2022-04-01T03:43:46.600654Z",
     "shell.execute_reply": "2022-04-01T03:43:46.601177Z",
     "shell.execute_reply.started": "2022-04-01T03:28:08.239284Z"
    },
    "papermill": {
     "duration": 0.040369,
     "end_time": "2022-04-01T03:43:46.601296",
     "exception": false,
     "start_time": "2022-04-01T03:43:46.560927",
     "status": "completed"
    },
    "tags": []
   },
   "outputs": [],
   "source": [
    "train.drop([\"PassengerId\"], axis = 1, inplace = True)\n",
    "test.drop([\"PassengerId\"], axis = 1, inplace = True)\n",
    "TARGET = 'Transported'\n",
    "FEATURES = [col for col in train.columns if col not in ['id', TARGET]]\n",
    "RANDOM_STATE = 12"
   ]
  },
  {
   "cell_type": "code",
   "execution_count": 16,
   "id": "78701ecc",
   "metadata": {
    "execution": {
     "iopub.execute_input": "2022-04-01T03:43:46.658615Z",
     "iopub.status.busy": "2022-04-01T03:43:46.657865Z",
     "iopub.status.idle": "2022-04-01T03:43:46.662303Z",
     "shell.execute_reply": "2022-04-01T03:43:46.662757Z",
     "shell.execute_reply.started": "2022-04-01T03:41:12.028770Z"
    },
    "papermill": {
     "duration": 0.034269,
     "end_time": "2022-04-01T03:43:46.662901",
     "exception": false,
     "start_time": "2022-04-01T03:43:46.628632",
     "status": "completed"
    },
    "tags": []
   },
   "outputs": [
    {
     "data": {
      "text/plain": [
       "'\\ntrain.iloc[:, :-1].describe().T.sort_values(by=\\'std\\', ascending = False).stype.background_gradient(cmap=\\'GnBu\\').bar(subset=[\"max\"], color=\\'#BB0000\\').bar(subset=[\"mean\",], color=\\'green\\')\\n'"
      ]
     },
     "execution_count": 16,
     "metadata": {},
     "output_type": "execute_result"
    }
   ],
   "source": [
    "\"\"\"\n",
    "train.iloc[:, :-1].describe().T.sort_values(by='std', ascending = False)\\\n",
    ".stype.background_gradient(cmap='GnBu')\\\n",
    ".bar(subset=[\"max\"], color='#BB0000')\\\n",
    ".bar(subset=[\"mean\",], color='green')\n",
    "\"\"\""
   ]
  },
  {
   "cell_type": "markdown",
   "id": "575a185f",
   "metadata": {
    "papermill": {
     "duration": 0.027634,
     "end_time": "2022-04-01T03:43:46.718196",
     "exception": false,
     "start_time": "2022-04-01T03:43:46.690562",
     "status": "completed"
    },
    "tags": []
   },
   "source": [
    "# Step3. 데이터 전처리\n",
    "- Feature Engineering 이라고도 한다\n",
    "- ML 모형을 돌리기 위해 표준화 등 / 원핫-인코딩\n",
    "- 파생변수 (도출 변수) 만들기\n",
    "    + 왜 이 변수를 만들었는지에 대한 본인의 설명 필요"
   ]
  },
  {
   "cell_type": "markdown",
   "id": "cf7a425c",
   "metadata": {
    "papermill": {
     "duration": 0.027495,
     "end_time": "2022-04-01T03:43:46.773272",
     "exception": false,
     "start_time": "2022-04-01T03:43:46.745777",
     "status": "completed"
    },
    "tags": []
   },
   "source": [
    "# Step4. 머신러닝 모형 개발\n",
    "- 모형에 대한 설명\n",
    "- 모형을 1-2개 사용\n",
    "- 교차 검증\n",
    "- 하이퍼파라미터 튜닝"
   ]
  },
  {
   "cell_type": "markdown",
   "id": "bc2d9d74",
   "metadata": {
    "papermill": {
     "duration": 0.027372,
     "end_time": "2022-04-01T03:43:46.828302",
     "exception": false,
     "start_time": "2022-04-01T03:43:46.800930",
     "status": "completed"
    },
    "tags": []
   },
   "source": [
    "# Step5. \n",
    "- 훈련데이터 쪼갠다. 훈련데이터 + 검증데이터로 분리\n",
    "- 정확도 비교\n",
    "- 혼동행렬(Confusion Matriax) 설명 -> 스스로 찾아보고 설명을 넣는다"
   ]
  },
  {
   "cell_type": "markdown",
   "id": "58cc2d7e",
   "metadata": {
    "papermill": {
     "duration": 0.027721,
     "end_time": "2022-04-01T03:43:46.883636",
     "exception": false,
     "start_time": "2022-04-01T03:43:46.855915",
     "status": "completed"
    },
    "tags": []
   },
   "source": [
    "# Step6. 제출\n",
    "- 제출 양식은 샘플 만들어지는거 보고 참고"
   ]
  },
  {
   "cell_type": "markdown",
   "id": "aa656218",
   "metadata": {
    "papermill": {
     "duration": 0.027468,
     "end_time": "2022-04-01T03:43:46.938924",
     "exception": false,
     "start_time": "2022-04-01T03:43:46.911456",
     "status": "completed"
    },
    "tags": []
   },
   "source": [
    "# Reference\n",
    "- 다른 사람의 code 설명을 따라친다면 해야 함.\n",
    "- 노트북 표절 방지 위해, 본인이 참조한 코드는 반드시 링크 걸어둘 것.\n",
    "- [저자 이름, 글 제목, 링크 주소]\n",
    "- SANSKAR HASIJA, 🚀Spaceship Titanic -📊EDA + 27 different models📈, https://www.kaggle.com/code/odins0n/spaceship-titanic-eda-27-different-models\n",
    "\n"
   ]
  },
  {
   "cell_type": "markdown",
   "id": "8688331c",
   "metadata": {
    "papermill": {
     "duration": 0.027635,
     "end_time": "2022-04-01T03:43:46.994798",
     "exception": false,
     "start_time": "2022-04-01T03:43:46.967163",
     "status": "completed"
    },
    "tags": []
   },
   "source": [
    "# 마감일\n",
    "- 4월 12일 17시 40분\n",
    "- 제출 형태\n",
    "    + Leaderbord 랭킹 사진 캡처\n",
    "    + 고용노동부 보고 양식(다음주에 확인해서 공지예정)"
   ]
  }
 ],
 "metadata": {
  "kernelspec": {
   "display_name": "Python 3",
   "language": "python",
   "name": "python3"
  },
  "language_info": {
   "codemirror_mode": {
    "name": "ipython",
    "version": 3
   },
   "file_extension": ".py",
   "mimetype": "text/x-python",
   "name": "python",
   "nbconvert_exporter": "python",
   "pygments_lexer": "ipython3",
   "version": "3.7.12"
  },
  "papermill": {
   "default_parameters": {},
   "duration": 86.698829,
   "end_time": "2022-04-01T03:43:47.732442",
   "environment_variables": {},
   "exception": null,
   "input_path": "__notebook__.ipynb",
   "output_path": "__notebook__.ipynb",
   "parameters": {},
   "start_time": "2022-04-01T03:42:21.033613",
   "version": "2.3.3"
  }
 },
 "nbformat": 4,
 "nbformat_minor": 5
}
